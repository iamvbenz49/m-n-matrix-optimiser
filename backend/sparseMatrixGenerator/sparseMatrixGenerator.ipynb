{
  "nbformat": 4,
  "nbformat_minor": 0,
  "metadata": {
    "colab": {
      "provenance": []
    },
    "kernelspec": {
      "name": "python3",
      "display_name": "Python 3"
    },
    "language_info": {
      "name": "python"
    }
  },
  "cells": [
    {
      "cell_type": "code",
      "execution_count": null,
      "metadata": {
        "id": "y5VZNuUnuNbb"
      },
      "outputs": [],
      "source": [
        "import numpy as np\n",
        "from scipy.sparse import csr_matrix\n",
        "\n",
        "def create_sparse_matrix(rows, cols, density, repeated_value=1, seed=None):\n",
        "    np.random.seed(seed)\n",
        "    num_nonzero = int(rows * cols * density)\n",
        "    indices = np.random.choice(rows * cols, num_nonzero, replace=False)\n",
        "\n",
        "    # Use repeated_value for the data array\n",
        "    data = np.full(num_nonzero, repeated_value, dtype=int)\n",
        "\n",
        "    sparse_matrix = csr_matrix((data, (indices // cols, indices % cols)), shape=(rows, cols))\n",
        "    return sparse_matrix\n",
        "\n",
        "rows, cols = 10_000_000, 30_000\n",
        "density = 0.4\n",
        "repeated_value = 1\n",
        "seed_value = 42\n",
        "\n",
        "sparse_matrix = create_sparse_matrix(rows, cols, density, repeated_value, seed_value)\n",
        "\n",
        "# Convert sparse matrix to dense matrix\n",
        "# dense_matrix = sparse_matrix.toarray()\n",
        "\n",
        "# print(\"Sparse Matrix:\")\n",
        "# print(sparse_matrix)\n",
        "\n",
        "# print(\"\\nDense Matrix:\")\n",
        "# print(dense_matrix)\n"
      ]
    },
    {
      "cell_type": "code",
      "source": [
        "import sys\n",
        "estimated_size = sys.getsizeof(sparseMatrix)\n",
        "estimated_size_mb = estimated_size / (1024 * 1024 * 1024)\n",
        "estimated_size_mb"
      ],
      "metadata": {
        "colab": {
          "base_uri": "https://localhost:8080/"
        },
        "id": "B2ns7QW8I_Wj",
        "outputId": "810d3b32-0aeb-45eb-c78b-aa3fbcdac9c3"
      },
      "execution_count": 16,
      "outputs": [
        {
          "output_type": "execute_result",
          "data": {
            "text/plain": [
              "279.39677250385284"
            ]
          },
          "metadata": {},
          "execution_count": 16
        }
      ]
    },
    {
      "cell_type": "code",
      "source": [
        "s = csc_matrix((1, 10000000+30000),\n",
        "                          dtype = np.int8).toarray()\n",
        "estimated_size_mb = sys.getsizeof(s) / (1024 * 1024 * 1024)\n",
        "estimated_size_mb"
      ],
      "metadata": {
        "id": "5UaWAncuyJCh",
        "colab": {
          "base_uri": "https://localhost:8080/"
        },
        "outputId": "fe32d55e-08b3-4aca-fc20-9a217f7b7f31"
      },
      "execution_count": 22,
      "outputs": [
        {
          "output_type": "execute_result",
          "data": {
            "text/plain": [
              "0.0093412846326828"
            ]
          },
          "metadata": {},
          "execution_count": 22
        }
      ]
    },
    {
      "cell_type": "code",
      "source": [],
      "metadata": {
        "id": "zRPcWaxUJ5PA"
      },
      "execution_count": null,
      "outputs": []
    }
  ]
}